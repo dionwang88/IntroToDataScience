{
 "cells": [
  {
   "cell_type": "code",
   "execution_count": 1,
   "metadata": {
    "collapsed": false
   },
   "outputs": [],
   "source": [
    "import json\n",
    "from pprint import pprint\n",
    "import time\n",
    "import pandas as pd\n",
    "import matplotlib.pyplot as plt\n",
    "%matplotlib inline"
   ]
  },
  {
   "cell_type": "code",
   "execution_count": 2,
   "metadata": {
    "collapsed": true
   },
   "outputs": [],
   "source": [
    "def convertToTime(t):\n",
    "    index = t.find('+0000')\n",
    "    lst = t.split('+0000')\n",
    "    t = ''\n",
    "    for l in lst:\n",
    "        t = t + l\n",
    "    return t"
   ]
  },
  {
   "cell_type": "code",
   "execution_count": 3,
   "metadata": {
    "collapsed": true
   },
   "outputs": [],
   "source": [
    "def yield_times(hst,mst):\n",
    "    from datetime import date, time, datetime, timedelta\n",
    "    start = datetime.combine(date.today(), time(hst, mst))\n",
    "    yield start.strftime(\"%H:%M\")\n",
    "    while True:\n",
    "        start += timedelta(seconds=600)\n",
    "        yield start.strftime(\"%H:%M\")"
   ]
  },
  {
   "cell_type": "code",
   "execution_count": 4,
   "metadata": {
    "collapsed": false
   },
   "outputs": [],
   "source": [
    "def generateTimeGap():\n",
    "    gen = yield_times(9,30)\n",
    "    t_seq = []\n",
    "    for i in range(40):\n",
    "        t_seq.append(gen.next())\n",
    "\n",
    "    return t_seq\n",
    "\n",
    "t_gap = generateTimeGap()"
   ]
  },
  {
   "cell_type": "code",
   "execution_count": 5,
   "metadata": {
    "collapsed": true
   },
   "outputs": [],
   "source": [
    "def formatTime(hour,minute):\n",
    "    m = ''\n",
    "    if hour < 10: \n",
    "        m = m + \"0\" + str(hour) + \":\"\n",
    "    else: \n",
    "        m = m + str(hour) + \":\"\n",
    "    if minute < 10:\n",
    "        m = m + \"0\" + str(minute)\n",
    "    else:\n",
    "        m = m + str(minute)\n",
    "    return m"
   ]
  },
  {
   "cell_type": "code",
   "execution_count": 6,
   "metadata": {
    "collapsed": false
   },
   "outputs": [],
   "source": [
    "# def groupTweetsByTime(fileName, t_gap):\n",
    "#     f = open(fileName, 'r')\n",
    "    \n",
    "#     mydict = {}\n",
    "#     i = 0\n",
    "#     lst = []\n",
    "#     for line in f:\n",
    "#         if line.find('created_at') > 0:# filter the deleted tweets\n",
    "#             tweet = json.loads(line)\n",
    "#             t = time.strptime(convertToTime(tweet['created_at'])) # convert tweet time to HH:MM format \n",
    "#             t1 = formatTime(t.tm_hour, t.tm_min)# get time in format: HH:MM\n",
    "#             tweet['time'] = t1\n",
    "#             if t < t_gap[i]:\n",
    "#                 lst.append(tweet)\n",
    "#             else:\n",
    "#                 mydict[t_gap[i]] = lst\n",
    "#                 lst = [tweet]\n",
    "#                 if i == len(t_gap)-1:\n",
    "#                     break\n",
    "#                 else:\n",
    "#                     i += 1\n",
    "#     f.close()\n",
    "#     return mydict"
   ]
  },
  {
   "cell_type": "code",
   "execution_count": 7,
   "metadata": {
    "collapsed": false,
    "scrolled": true
   },
   "outputs": [],
   "source": [
    "# test group the tweets by time\n",
    "# def generateTimeSeq():\n",
    "#     lst = []\n",
    "#     for i in xrange(9,15):\n",
    "#         for j in xrange(0, 59):\n",
    "#             m = ''\n",
    "#             if i < 10: \n",
    "#                 m = m + \"0\" + str(i) + \":\"\n",
    "#             else: \n",
    "#                 m = m + str(i) + \":\"\n",
    "#             if j < 10:\n",
    "#                 m = m + \"0\" + str(j)\n",
    "#             else:\n",
    "#                 m = m + str(j)\n",
    "#             lst.append(m)\n",
    "#     return lst\n",
    "\n",
    "\n",
    "# my_seq = generateTimeSeq()\n",
    "\n",
    "# mydict = {}\n",
    "# i = 0\n",
    "# lst = []\n",
    "# for t in my_seq:\n",
    "#     if t < t_gap[i]:\n",
    "#         lst.append(t)\n",
    "#     else:\n",
    "#         mydict[t_gap[i]] = lst\n",
    "#         lst = [t]\n",
    "#         i += 1\n",
    "# import pandas as pd\n",
    "\n",
    "# p = pd.DataFrame(mydict.items())\n",
    "# p.sort_values(0)\n"
   ]
  },
  {
   "cell_type": "code",
   "execution_count": 8,
   "metadata": {
    "collapsed": false
   },
   "outputs": [],
   "source": [
    "# from yahoo_finance import Share\n",
    "# import time\n",
    "\n",
    "# for i in xrange(5):\n",
    "#     GSPC = Share(\"^GSPC\")\n",
    "#     IXIC = Share('^IXIC')\n",
    "#     start = time.time()\n",
    "#     price_dict = {}\n",
    "#     GSPC.refresh()\n",
    "#     IXIC.refresh()\n",
    "#     price_dict[\"time\"] = time.ctime()\n",
    "#     price_dict[\"SP500\"] = float(GSPC.get_price())\n",
    "#     price_dict[\"nasdaq\"] = float(IXIC.get_price())\n",
    "#     print price_dict\n",
    "#     end = time.time()\n",
    "# #     print end - start\n",
    "#     time.sleep(3)"
   ]
  },
  {
   "cell_type": "code",
   "execution_count": 9,
   "metadata": {
    "collapsed": false,
    "scrolled": true
   },
   "outputs": [
    {
     "name": "stdout",
     "output_type": "stream",
     "text": [
      "1212648\n"
     ]
    }
   ],
   "source": [
    "f = open('data/day3/output3.json', 'r')\n",
    "i = 0\n",
    "for line in f:\n",
    "    if line.find('created_at') > 0:\n",
    "        i += 1\n",
    "print i\n",
    "f.close()"
   ]
  },
  {
   "cell_type": "code",
   "execution_count": 10,
   "metadata": {
    "collapsed": false
   },
   "outputs": [
    {
     "data": {
      "text/plain": [
       "40"
      ]
     },
     "execution_count": 10,
     "metadata": {},
     "output_type": "execute_result"
    }
   ],
   "source": [
    "len(t_gap)"
   ]
  },
  {
   "cell_type": "code",
   "execution_count": 12,
   "metadata": {
    "collapsed": false
   },
   "outputs": [
    {
     "data": {
      "text/plain": [
       "30316"
      ]
     },
     "execution_count": 12,
     "metadata": {},
     "output_type": "execute_result"
    }
   ],
   "source": [
    "i/40"
   ]
  },
  {
   "cell_type": "code",
   "execution_count": 13,
   "metadata": {
    "collapsed": false,
    "scrolled": false
   },
   "outputs": [],
   "source": [
    "def parseFinance(fileName, t_gap):\n",
    "    f = open(fileName, 'r')\n",
    "\n",
    "    sp500 = {}\n",
    "    nasdaq = {}\n",
    "    start = t_gap[0]\n",
    "    end = t_gap[1]\n",
    "    cursor = 0\n",
    "\n",
    "    for line in f:\n",
    "        if line.find('nasdaq') > 0:\n",
    "            fjson = json.loads(line)\n",
    "            t = time.strptime(convertToTime(fjson['time']))\n",
    "            t = formatTime(t.tm_hour,t.tm_min)# get time in format: HH:MM\n",
    "            fjson['time'] = t\n",
    "            if t <= start:\n",
    "                sp500[end] = fjson['SP500']\n",
    "                nasdaq[end] = fjson['nasdaq']\n",
    "                continue\n",
    "            if t > start and t <= end:\n",
    "                sp500[end] = fjson['SP500']\n",
    "                nasdaq[end] = fjson['nasdaq']\n",
    "                continue\n",
    "            if t > end:\n",
    "                for j in xrange(cursor, len(t_gap)):\n",
    "                    if t > t_gap[j]:\n",
    "                        continue\n",
    "                    else:\n",
    "                        cursor = j\n",
    "                        start = t_gap[j-1]\n",
    "                        end = t_gap[j]\n",
    "                        sp500[end] = fjson['SP500']\n",
    "                        nasdaq[end] = fjson['nasdaq']\n",
    "                        break\n",
    "\n",
    "    f.close()\n",
    "\n",
    "    return sp500, nasdaq"
   ]
  },
  {
   "cell_type": "code",
   "execution_count": 14,
   "metadata": {
    "collapsed": false
   },
   "outputs": [],
   "source": [
    "sp500, nasdaq = parseFinance('data/day3/finance3.json', t_gap)"
   ]
  },
  {
   "cell_type": "code",
   "execution_count": 15,
   "metadata": {
    "collapsed": true
   },
   "outputs": [],
   "source": [
    "import nltk"
   ]
  },
  {
   "cell_type": "code",
   "execution_count": 16,
   "metadata": {
    "collapsed": false
   },
   "outputs": [],
   "source": [
    "from nltk.corpus import stopwords\n",
    "sw = stopwords.words(\"english\")"
   ]
  },
  {
   "cell_type": "code",
   "execution_count": 17,
   "metadata": {
    "collapsed": true
   },
   "outputs": [],
   "source": [
    "FiveMunitesCount = 30000"
   ]
  },
  {
   "cell_type": "code",
   "execution_count": 18,
   "metadata": {
    "collapsed": false
   },
   "outputs": [],
   "source": [
    "def groupTweetsByCount(fileName, t_gap): \n",
    "    f = open(fileName, 'r')  \n",
    "    \n",
    "    i = 0\n",
    "    count = 0\n",
    "    lst = []\n",
    "    mydict = {}\n",
    "    \n",
    "    for line in f:\n",
    "        if line.find('created_at') > 0:\n",
    "            count += 1\n",
    "            tweet = json.loads(line)\n",
    "            lst.append(tweet['text'])\n",
    "            \n",
    "            if count == FiveMunitesCount:\n",
    "                mydict[t_gap[i]] = lst\n",
    "                i += 1\n",
    "                lst = []\n",
    "                count = 0\n",
    "            elif i == (len(t_gap) -1):\n",
    "                mydict[t_gap[i]] = lst\n",
    "                \n",
    "    f.close()\n",
    "    return mydict"
   ]
  },
  {
   "cell_type": "code",
   "execution_count": 19,
   "metadata": {
    "collapsed": false
   },
   "outputs": [],
   "source": [
    "mydict = groupTweetsByCount('data/day3/output3.json',t_gap)"
   ]
  },
  {
   "cell_type": "code",
   "execution_count": 20,
   "metadata": {
    "collapsed": false
   },
   "outputs": [
    {
     "data": {
      "text/plain": [
       "40"
      ]
     },
     "execution_count": 20,
     "metadata": {},
     "output_type": "execute_result"
    }
   ],
   "source": [
    "# f = open('output3.json','r')\n",
    "# lst = []\n",
    "# for line in f:\n",
    "#     if line.find('created_at') > 0:\n",
    "#         tweet = json.loads(line)\n",
    "#         lst.append(tweet['text'])\n",
    "# f.close()\n",
    "# words = [ w for t in lst \n",
    "#               for w in t.split() ]\n",
    "# cleaned_words = [item.lower() for item in words if item not in sw]\n",
    "\n",
    "# mypd = pd.DataFrame(cleaned_words)\n",
    "# mypd.columns = ['word']\n",
    "\n",
    "# merged_positive = pd.merge(left=positives, right=mypd, how='right', on='word')\n",
    "# print(merged_positive.head())\n",
    "# merged_negative = pd.merge(left=negatives, right=mypd, how='right', on='word')\n",
    "# print(merged_negative.head())\n",
    "len(mydict)"
   ]
  },
  {
   "cell_type": "code",
   "execution_count": 21,
   "metadata": {
    "collapsed": false
   },
   "outputs": [],
   "source": [
    "# split to the words and remove the stopwords\n",
    "for key in mydict.keys():\n",
    "    words = [ w for t in mydict[key] \n",
    "              for w in t.split() ]\n",
    "    cleaned_words = [item.lower() for item in words if item not in sw]\n",
    "    mydict[key] = cleaned_words\n"
   ]
  },
  {
   "cell_type": "code",
   "execution_count": 22,
   "metadata": {
    "collapsed": false
   },
   "outputs": [],
   "source": [
    "positives = pd.read_csv('positives.csv')\n",
    "negatives = pd.read_csv('negatives.csv')"
   ]
  },
  {
   "cell_type": "code",
   "execution_count": 23,
   "metadata": {
    "collapsed": false
   },
   "outputs": [
    {
     "name": "stderr",
     "output_type": "stream",
     "text": [
      "/Users/wangqian/anaconda/lib/python2.7/site-packages/pandas/tools/merge.py:679: UnicodeWarning: Unicode equal comparison failed to convert both arguments to Unicode - interpreting them as being unequal\n",
      "  rlab = rizer.factorize(rk)\n"
     ]
    }
   ],
   "source": [
    "ratios = {}\n",
    "diffs = {}\n",
    "for key in mydict.keys():\n",
    "    mypd = pd.DataFrame(mydict[key])\n",
    "    mypd.columns = ['word']\n",
    "    merged_positive = pd.merge(left=positives, right=mypd, how='right', on='word')\n",
    "    merged_negative = pd.merge(left=negatives, right=mypd, how='right', on='word')\n",
    "    merged_positive['value'].fillna(0, inplace=True)\n",
    "    merged_negative['value'].fillna(0, inplace=True)\n",
    "    pn_ratio = sum(merged_positive['value'])/abs(sum(merged_negative['value']))\n",
    "    ratios[key] = pn_ratio\n",
    "    diffs[key] = sum(merged_positive['value']) - abs(sum(merged_negative['value']))"
   ]
  },
  {
   "cell_type": "code",
   "execution_count": 24,
   "metadata": {
    "collapsed": false
   },
   "outputs": [],
   "source": [
    "pd_ratios = pd.DataFrame(ratios.items(), columns=['time', 'value'])\n",
    "pd_diffs = pd.DataFrame(diffs.items(), columns=['time', 'value'])\n",
    "pd_nasdaq = pd.DataFrame(nasdaq.items(), columns=['time', 'index'])\n",
    "pd_sp500 = pd.DataFrame(sp500.items(), columns=['time', 'index'])\n",
    "\n",
    "merge1 = pd.merge(left=pd_ratios, right=pd_nasdaq, how='inner', on='time').sort_values('time')\n",
    "merge2 = pd.merge(left=pd_ratios, right=pd_sp500, how='inner', on='time').sort_values('time')\n",
    "merge3 = pd.merge(left=pd_diffs, right=pd_nasdaq, how='inner', on='time').sort_values('time')\n",
    "merge4 = pd.merge(left=pd_diffs, right=pd_sp500, how='inner', on='time').sort_values('time')\n"
   ]
  },
  {
   "cell_type": "code",
   "execution_count": null,
   "metadata": {
    "collapsed": true
   },
   "outputs": [],
   "source": [
    "merge1.to_csv('data/day3/day3_merge1.csv')\n",
    "merge2.to_csv('data/day3/day3_merge2.csv')\n",
    "merge3.to_csv('data/day3/day3_merge3.csv')\n",
    "merge4.to_csv('data/day3/day3_merge4.csv')"
   ]
  },
  {
   "cell_type": "code",
   "execution_count": 38,
   "metadata": {
    "collapsed": true
   },
   "outputs": [],
   "source": [
    "mymerge3 = pd.read_csv('data/day3/day3_merge3.csv')"
   ]
  },
  {
   "cell_type": "code",
   "execution_count": 39,
   "metadata": {
    "collapsed": false
   },
   "outputs": [],
   "source": [
    "import statsmodels.tsa.stattools"
   ]
  },
  {
   "cell_type": "code",
   "execution_count": 40,
   "metadata": {
    "collapsed": false
   },
   "outputs": [
    {
     "name": "stdout",
     "output_type": "stream",
     "text": [
      "\n",
      "Granger Causality\n",
      "('number of lags (no zero)', 1)\n",
      "ssr based F test:         F=3.7735  , p=0.0602  , df_denom=35, df_num=1\n",
      "ssr based chi2 test:   chi2=4.0969  , p=0.0430  , df=1\n",
      "likelihood ratio test: chi2=3.8908  , p=0.0486  , df=1\n",
      "parameter F test:         F=3.7735  , p=0.0602  , df_denom=35, df_num=1\n",
      "\n",
      "Granger Causality\n",
      "('number of lags (no zero)', 2)\n",
      "ssr based F test:         F=2.1788  , p=0.1297  , df_denom=32, df_num=2\n",
      "ssr based chi2 test:   chi2=5.0385  , p=0.0805  , df=2\n",
      "likelihood ratio test: chi2=4.7237  , p=0.0942  , df=2\n",
      "parameter F test:         F=2.1788  , p=0.1297  , df_denom=32, df_num=2\n",
      "\n",
      "Granger Causality\n",
      "('number of lags (no zero)', 3)\n",
      "ssr based F test:         F=1.2376  , p=0.3140  , df_denom=29, df_num=3\n",
      "ssr based chi2 test:   chi2=4.6091  , p=0.2028  , df=3\n",
      "likelihood ratio test: chi2=4.3370  , p=0.2273  , df=3\n",
      "parameter F test:         F=1.2376  , p=0.3140  , df_denom=29, df_num=3\n",
      "\n",
      "Granger Causality\n",
      "('number of lags (no zero)', 4)\n",
      "ssr based F test:         F=1.3980  , p=0.2623  , df_denom=26, df_num=4\n",
      "ssr based chi2 test:   chi2=7.5279  , p=0.1105  , df=4\n",
      "likelihood ratio test: chi2=6.8184  , p=0.1458  , df=4\n",
      "parameter F test:         F=1.3980  , p=0.2623  , df_denom=26, df_num=4\n",
      "\n",
      "Granger Causality\n",
      "('number of lags (no zero)', 5)\n",
      "ssr based F test:         F=0.8668  , p=0.5182  , df_denom=23, df_num=5\n",
      "ssr based chi2 test:   chi2=6.4070  , p=0.2686  , df=5\n",
      "likelihood ratio test: chi2=5.8699  , p=0.3191  , df=5\n",
      "parameter F test:         F=0.8668  , p=0.5182  , df_denom=23, df_num=5\n"
     ]
    }
   ],
   "source": [
    "test1 = statsmodels.tsa.stattools.grangercausalitytests(merge1[['value','index']], 5)\n"
   ]
  },
  {
   "cell_type": "code",
   "execution_count": 41,
   "metadata": {
    "collapsed": false
   },
   "outputs": [
    {
     "name": "stdout",
     "output_type": "stream",
     "text": [
      "\n",
      "Granger Causality\n",
      "('number of lags (no zero)', 1)\n",
      "ssr based F test:         F=8.1114  , p=0.0073  , df_denom=35, df_num=1\n",
      "ssr based chi2 test:   chi2=8.8066  , p=0.0030  , df=1\n",
      "likelihood ratio test: chi2=7.9207  , p=0.0049  , df=1\n",
      "parameter F test:         F=8.1114  , p=0.0073  , df_denom=35, df_num=1\n",
      "\n",
      "Granger Causality\n",
      "('number of lags (no zero)', 2)\n",
      "ssr based F test:         F=4.4031  , p=0.0205  , df_denom=32, df_num=2\n",
      "ssr based chi2 test:   chi2=10.1821 , p=0.0062  , df=2\n",
      "likelihood ratio test: chi2=8.9946  , p=0.0111  , df=2\n",
      "parameter F test:         F=4.4031  , p=0.0205  , df_denom=32, df_num=2\n",
      "\n",
      "Granger Causality\n",
      "('number of lags (no zero)', 3)\n",
      "ssr based F test:         F=1.4935  , p=0.2371  , df_denom=29, df_num=3\n",
      "ssr based chi2 test:   chi2=5.5618  , p=0.1350  , df=3\n",
      "likelihood ratio test: chi2=5.1719  , p=0.1596  , df=3\n",
      "parameter F test:         F=1.4935  , p=0.2371  , df_denom=29, df_num=3\n",
      "\n",
      "Granger Causality\n",
      "('number of lags (no zero)', 4)\n",
      "ssr based F test:         F=2.8027  , p=0.0465  , df_denom=26, df_num=4\n",
      "ssr based chi2 test:   chi2=15.0914 , p=0.0045  , df=4\n",
      "likelihood ratio test: chi2=12.5475 , p=0.0137  , df=4\n",
      "parameter F test:         F=2.8027  , p=0.0465  , df_denom=26, df_num=4\n",
      "\n",
      "Granger Causality\n",
      "('number of lags (no zero)', 5)\n",
      "ssr based F test:         F=1.7895  , p=0.1548  , df_denom=23, df_num=5\n",
      "ssr based chi2 test:   chi2=13.2267 , p=0.0213  , df=5\n",
      "likelihood ratio test: chi2=11.1723 , p=0.0481  , df=5\n",
      "parameter F test:         F=1.7895  , p=0.1548  , df_denom=23, df_num=5\n"
     ]
    }
   ],
   "source": [
    "test2 = statsmodels.tsa.stattools.grangercausalitytests(merge2[['value','index']], 5)"
   ]
  },
  {
   "cell_type": "code",
   "execution_count": 42,
   "metadata": {
    "collapsed": false,
    "scrolled": false
   },
   "outputs": [
    {
     "name": "stdout",
     "output_type": "stream",
     "text": [
      "\n",
      "Granger Causality\n",
      "('number of lags (no zero)', 1)\n",
      "ssr based F test:         F=7.0728  , p=0.0117  , df_denom=35, df_num=1\n",
      "ssr based chi2 test:   chi2=7.6790  , p=0.0056  , df=1\n",
      "likelihood ratio test: chi2=6.9940  , p=0.0082  , df=1\n",
      "parameter F test:         F=7.0728  , p=0.0117  , df_denom=35, df_num=1\n",
      "\n",
      "Granger Causality\n",
      "('number of lags (no zero)', 2)\n",
      "ssr based F test:         F=4.6334  , p=0.0171  , df_denom=32, df_num=2\n",
      "ssr based chi2 test:   chi2=10.7148 , p=0.0047  , df=2\n",
      "likelihood ratio test: chi2=9.4100  , p=0.0090  , df=2\n",
      "parameter F test:         F=4.6334  , p=0.0171  , df_denom=32, df_num=2\n",
      "\n",
      "Granger Causality\n",
      "('number of lags (no zero)', 3)\n",
      "ssr based F test:         F=2.1526  , p=0.1152  , df_denom=29, df_num=3\n",
      "ssr based chi2 test:   chi2=8.0165  , p=0.0457  , df=3\n",
      "likelihood ratio test: chi2=7.2377  , p=0.0647  , df=3\n",
      "parameter F test:         F=2.1526  , p=0.1152  , df_denom=29, df_num=3\n",
      "\n",
      "Granger Causality\n",
      "('number of lags (no zero)', 4)\n",
      "ssr based F test:         F=1.9519  , p=0.1318  , df_denom=26, df_num=4\n",
      "ssr based chi2 test:   chi2=10.5103 , p=0.0327  , df=4\n",
      "likelihood ratio test: chi2=9.1907  , p=0.0565  , df=4\n",
      "parameter F test:         F=1.9519  , p=0.1318  , df_denom=26, df_num=4\n",
      "\n",
      "Granger Causality\n",
      "('number of lags (no zero)', 5)\n",
      "ssr based F test:         F=1.3555  , p=0.2772  , df_denom=23, df_num=5\n",
      "ssr based chi2 test:   chi2=10.0192 , p=0.0747  , df=5\n",
      "likelihood ratio test: chi2=8.7810  , p=0.1181  , df=5\n",
      "parameter F test:         F=1.3555  , p=0.2772  , df_denom=23, df_num=5\n"
     ]
    }
   ],
   "source": [
    "test3 = statsmodels.tsa.stattools.grangercausalitytests(merge3[['value','index']], 5)"
   ]
  },
  {
   "cell_type": "code",
   "execution_count": 43,
   "metadata": {
    "collapsed": false
   },
   "outputs": [
    {
     "name": "stdout",
     "output_type": "stream",
     "text": [
      "\n",
      "Granger Causality\n",
      "('number of lags (no zero)', 1)\n",
      "ssr based F test:         F=10.1884 , p=0.0030  , df_denom=35, df_num=1\n",
      "ssr based chi2 test:   chi2=11.0617 , p=0.0009  , df=1\n",
      "likelihood ratio test: chi2=9.7087  , p=0.0018  , df=1\n",
      "parameter F test:         F=10.1884 , p=0.0030  , df_denom=35, df_num=1\n",
      "\n",
      "Granger Causality\n",
      "('number of lags (no zero)', 2)\n",
      "ssr based F test:         F=7.6876  , p=0.0019  , df_denom=32, df_num=2\n",
      "ssr based chi2 test:   chi2=17.7777 , p=0.0001  , df=2\n",
      "likelihood ratio test: chi2=14.5175 , p=0.0007  , df=2\n",
      "parameter F test:         F=7.6876  , p=0.0019  , df_denom=32, df_num=2\n",
      "\n",
      "Granger Causality\n",
      "('number of lags (no zero)', 3)\n",
      "ssr based F test:         F=2.8832  , p=0.0527  , df_denom=29, df_num=3\n",
      "ssr based chi2 test:   chi2=10.7375 , p=0.0132  , df=3\n",
      "likelihood ratio test: chi2=9.3970  , p=0.0245  , df=3\n",
      "parameter F test:         F=2.8832  , p=0.0527  , df_denom=29, df_num=3\n",
      "\n",
      "Granger Causality\n",
      "('number of lags (no zero)', 4)\n",
      "ssr based F test:         F=3.1745  , p=0.0299  , df_denom=26, df_num=4\n",
      "ssr based chi2 test:   chi2=17.0932 , p=0.0019  , df=4\n",
      "likelihood ratio test: chi2=13.9191 , p=0.0076  , df=4\n",
      "parameter F test:         F=3.1745  , p=0.0299  , df_denom=26, df_num=4\n",
      "\n",
      "Granger Causality\n",
      "('number of lags (no zero)', 5)\n",
      "ssr based F test:         F=2.4234  , p=0.0664  , df_denom=23, df_num=5\n",
      "ssr based chi2 test:   chi2=17.9119 , p=0.0031  , df=5\n",
      "likelihood ratio test: chi2=14.3884 , p=0.0133  , df=5\n",
      "parameter F test:         F=2.4234  , p=0.0664  , df_denom=23, df_num=5\n"
     ]
    }
   ],
   "source": [
    "test4 = statsmodels.tsa.stattools.grangercausalitytests(merge4[['value','index']], 5)"
   ]
  },
  {
   "cell_type": "code",
   "execution_count": 45,
   "metadata": {
    "collapsed": false,
    "scrolled": true
   },
   "outputs": [
    {
     "data": {
      "image/png": "[encoded data removed]",
      "text/plain": [
       "<matplotlib.figure.Figure at 0x10f146050>"
      ]
     },
     "metadata": {},
     "output_type": "display_data"
    }
   ],
   "source": [
    "plt.figure(1)\n",
    "\n",
    "plt.subplot(211)\n",
    "plt.plot(merge3['value'])\n",
    "plt.title(\"Difference vs. Nasdaq Index\")\n",
    "\n",
    "plt.subplot(212)\n",
    "plt.plot(merge3['index'])\n",
    "\n",
    "\n",
    "plt.show()"
   ]
  },
  {
   "cell_type": "code",
   "execution_count": null,
   "metadata": {
    "collapsed": true
   },
   "outputs": [],
   "source": []
  }
 ],
 "metadata": {
  "kernelspec": {
   "display_name": "Python 2",
   "language": "python",
   "name": "python2"
  },
  "language_info": {
   "codemirror_mode": {
    "name": "ipython",
    "version": 2
   },
   "file_extension": ".py",
   "mimetype": "text/x-python",
   "name": "python",
   "nbconvert_exporter": "python",
   "pygments_lexer": "ipython2",
   "version": "2.7.10"
  }
 },
 "nbformat": 4,
 "nbformat_minor": 0
}
