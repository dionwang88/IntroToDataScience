{
 "cells": [
  {
   "cell_type": "code",
   "execution_count": 31,
   "metadata": {
    "collapsed": false
   },
   "outputs": [],
   "source": [
    "import json\n",
    "from pprint import pprint\n",
    "import time\n",
    "import pandas as pd\n",
    "import matplotlib.pyplot as plt\n",
    "%matplotlib inline"
   ]
  },
  {
   "cell_type": "code",
   "execution_count": 32,
   "metadata": {
    "collapsed": true
   },
   "outputs": [],
   "source": [
    "def convertToTime(t):\n",
    "    index = t.find('+0000')\n",
    "    lst = t.split('+0000')\n",
    "    t = ''\n",
    "    for l in lst:\n",
    "        t = t + l\n",
    "    return t"
   ]
  },
  {
   "cell_type": "code",
   "execution_count": 33,
   "metadata": {
    "collapsed": true
   },
   "outputs": [],
   "source": [
    "def yield_times(hst,mst):\n",
    "    from datetime import date, time, datetime, timedelta\n",
    "    start = datetime.combine(date.today(), time(hst, mst))\n",
    "    yield start.strftime(\"%H:%M\")\n",
    "    while True:\n",
    "        start += timedelta(seconds=600)\n",
    "        yield start.strftime(\"%H:%M\")"
   ]
  },
  {
   "cell_type": "code",
   "execution_count": 34,
   "metadata": {
    "collapsed": false
   },
   "outputs": [],
   "source": [
    "def generateTimeGap():\n",
    "    gen = yield_times(9,30)\n",
    "    t_seq = []\n",
    "    for i in range(40):\n",
    "        t_seq.append(gen.next())\n",
    "\n",
    "    return t_seq\n",
    "\n",
    "t_gap = generateTimeGap()"
   ]
  },
  {
   "cell_type": "code",
   "execution_count": 35,
   "metadata": {
    "collapsed": true
   },
   "outputs": [],
   "source": [
    "def formatTime(hour,minute):\n",
    "    m = ''\n",
    "    if hour < 10: \n",
    "        m = m + \"0\" + str(hour) + \":\"\n",
    "    else: \n",
    "        m = m + str(hour) + \":\"\n",
    "    if minute < 10:\n",
    "        m = m + \"0\" + str(minute)\n",
    "    else:\n",
    "        m = m + str(minute)\n",
    "    return m"
   ]
  },
  {
   "cell_type": "code",
   "execution_count": 6,
   "metadata": {
    "collapsed": false
   },
   "outputs": [],
   "source": [
    "# def groupTweetsByTime(fileName, t_gap):\n",
    "#     f = open(fileName, 'r')\n",
    "    \n",
    "#     mydict = {}\n",
    "#     i = 0\n",
    "#     lst = []\n",
    "#     for line in f:\n",
    "#         if line.find('created_at') > 0:# filter the deleted tweets\n",
    "#             tweet = json.loads(line)\n",
    "#             t = time.strptime(convertToTime(tweet['created_at'])) # convert tweet time to HH:MM format \n",
    "#             t1 = formatTime(t.tm_hour, t.tm_min)# get time in format: HH:MM\n",
    "#             tweet['time'] = t1\n",
    "#             if t < t_gap[i]:\n",
    "#                 lst.append(tweet)\n",
    "#             else:\n",
    "#                 mydict[t_gap[i]] = lst\n",
    "#                 lst = [tweet]\n",
    "#                 if i == len(t_gap)-1:\n",
    "#                     break\n",
    "#                 else:\n",
    "#                     i += 1\n",
    "#     f.close()\n",
    "#     return mydict"
   ]
  },
  {
   "cell_type": "code",
   "execution_count": 8,
   "metadata": {
    "collapsed": false,
    "scrolled": true
   },
   "outputs": [],
   "source": [
    "# test group the tweets by time\n",
    "# def generateTimeSeq():\n",
    "#     lst = []\n",
    "#     for i in xrange(9,15):\n",
    "#         for j in xrange(0, 59):\n",
    "#             m = ''\n",
    "#             if i < 10: \n",
    "#                 m = m + \"0\" + str(i) + \":\"\n",
    "#             else: \n",
    "#                 m = m + str(i) + \":\"\n",
    "#             if j < 10:\n",
    "#                 m = m + \"0\" + str(j)\n",
    "#             else:\n",
    "#                 m = m + str(j)\n",
    "#             lst.append(m)\n",
    "#     return lst\n",
    "\n",
    "\n",
    "# my_seq = generateTimeSeq()\n",
    "\n",
    "# mydict = {}\n",
    "# i = 0\n",
    "# lst = []\n",
    "# for t in my_seq:\n",
    "#     if t < t_gap[i]:\n",
    "#         lst.append(t)\n",
    "#     else:\n",
    "#         mydict[t_gap[i]] = lst\n",
    "#         lst = [t]\n",
    "#         i += 1\n",
    "# import pandas as pd\n",
    "\n",
    "# p = pd.DataFrame(mydict.items())\n",
    "# p.sort_values(0)\n"
   ]
  },
  {
   "cell_type": "code",
   "execution_count": 9,
   "metadata": {
    "collapsed": false
   },
   "outputs": [],
   "source": [
    "# from yahoo_finance import Share\n",
    "# import time\n",
    "\n",
    "# for i in xrange(5):\n",
    "#     GSPC = Share(\"^GSPC\")\n",
    "#     IXIC = Share('^IXIC')\n",
    "#     start = time.time()\n",
    "#     price_dict = {}\n",
    "#     GSPC.refresh()\n",
    "#     IXIC.refresh()\n",
    "#     price_dict[\"time\"] = time.ctime()\n",
    "#     price_dict[\"SP500\"] = float(GSPC.get_price())\n",
    "#     price_dict[\"nasdaq\"] = float(IXIC.get_price())\n",
    "#     print price_dict\n",
    "#     end = time.time()\n",
    "# #     print end - start\n",
    "#     time.sleep(3)"
   ]
  },
  {
   "cell_type": "code",
   "execution_count": 36,
   "metadata": {
    "collapsed": false,
    "scrolled": true
   },
   "outputs": [
    {
     "name": "stdout",
     "output_type": "stream",
     "text": [
      "1122964\n"
     ]
    }
   ],
   "source": [
    "f = open('data/day5/output5.json', 'r')\n",
    "i = 0\n",
    "for line in f:\n",
    "    if line.find('created_at') > 0:\n",
    "        i += 1\n",
    "print i\n",
    "f.close()"
   ]
  },
  {
   "cell_type": "code",
   "execution_count": 37,
   "metadata": {
    "collapsed": false
   },
   "outputs": [
    {
     "data": {
      "text/plain": [
       "40"
      ]
     },
     "execution_count": 37,
     "metadata": {},
     "output_type": "execute_result"
    }
   ],
   "source": [
    "len(t_gap)"
   ]
  },
  {
   "cell_type": "code",
   "execution_count": 38,
   "metadata": {
    "collapsed": false
   },
   "outputs": [
    {
     "data": {
      "text/plain": [
       "['09:30',\n",
       " '09:40',\n",
       " '09:50',\n",
       " '10:00',\n",
       " '10:10',\n",
       " '10:20',\n",
       " '10:30',\n",
       " '10:40',\n",
       " '10:50',\n",
       " '11:00',\n",
       " '11:10',\n",
       " '11:20',\n",
       " '11:30',\n",
       " '11:40',\n",
       " '11:50',\n",
       " '12:00',\n",
       " '12:10',\n",
       " '12:20',\n",
       " '12:30',\n",
       " '12:40',\n",
       " '12:50',\n",
       " '13:00',\n",
       " '13:10',\n",
       " '13:20',\n",
       " '13:30',\n",
       " '13:40',\n",
       " '13:50',\n",
       " '14:00',\n",
       " '14:10',\n",
       " '14:20',\n",
       " '14:30',\n",
       " '14:40',\n",
       " '14:50',\n",
       " '15:00',\n",
       " '15:10',\n",
       " '15:20',\n",
       " '15:30',\n",
       " '15:40',\n",
       " '15:50',\n",
       " '16:00']"
      ]
     },
     "execution_count": 38,
     "metadata": {},
     "output_type": "execute_result"
    }
   ],
   "source": [
    "t_gap"
   ]
  },
  {
   "cell_type": "code",
   "execution_count": 39,
   "metadata": {
    "collapsed": false
   },
   "outputs": [
    {
     "data": {
      "text/plain": [
       "28074"
      ]
     },
     "execution_count": 39,
     "metadata": {},
     "output_type": "execute_result"
    }
   ],
   "source": [
    "i/40"
   ]
  },
  {
   "cell_type": "code",
   "execution_count": 40,
   "metadata": {
    "collapsed": false,
    "scrolled": false
   },
   "outputs": [],
   "source": [
    "def parseFinance(fileName, t_gap):\n",
    "    f = open(fileName, 'r')\n",
    "\n",
    "    sp500 = {}\n",
    "    nasdaq = {}\n",
    "    start = t_gap[0]\n",
    "    end = t_gap[1]\n",
    "    cursor = 0\n",
    "\n",
    "    for line in f:\n",
    "        if line.find('nasdaq') > 0:\n",
    "            fjson = json.loads(line)\n",
    "            t = time.strptime(convertToTime(fjson['time']))\n",
    "            t = formatTime(t.tm_hour,t.tm_min)# get time in format: HH:MM\n",
    "            fjson['time'] = t\n",
    "            if t <= start:\n",
    "                sp500[end] = fjson['SP500']\n",
    "                nasdaq[end] = fjson['nasdaq']\n",
    "                continue\n",
    "            if t > start and t <= end:\n",
    "                sp500[end] = fjson['SP500']\n",
    "                nasdaq[end] = fjson['nasdaq']\n",
    "                continue\n",
    "            if t > end:\n",
    "                for j in xrange(cursor, len(t_gap)):\n",
    "                    if t > t_gap[j]:\n",
    "                        continue\n",
    "                    else:\n",
    "                        cursor = j\n",
    "                        start = t_gap[j-1]\n",
    "                        end = t_gap[j]\n",
    "                        sp500[end] = fjson['SP500']\n",
    "                        nasdaq[end] = fjson['nasdaq']\n",
    "                        break\n",
    "\n",
    "    f.close()\n",
    "\n",
    "    return sp500, nasdaq"
   ]
  },
  {
   "cell_type": "code",
   "execution_count": 42,
   "metadata": {
    "collapsed": false
   },
   "outputs": [],
   "source": [
    "sp500, nasdaq = parseFinance('data/day5/finance5.json', t_gap)"
   ]
  },
  {
   "cell_type": "code",
   "execution_count": 43,
   "metadata": {
    "collapsed": true
   },
   "outputs": [],
   "source": [
    "import nltk"
   ]
  },
  {
   "cell_type": "code",
   "execution_count": 44,
   "metadata": {
    "collapsed": false
   },
   "outputs": [],
   "source": [
    "from nltk.corpus import stopwords\n",
    "sw = stopwords.words(\"english\")"
   ]
  },
  {
   "cell_type": "code",
   "execution_count": 45,
   "metadata": {
    "collapsed": true
   },
   "outputs": [],
   "source": [
    "FiveMunitesCount = 28000"
   ]
  },
  {
   "cell_type": "code",
   "execution_count": 46,
   "metadata": {
    "collapsed": false
   },
   "outputs": [],
   "source": [
    "def groupTweetsByCount(fileName, t_gap): \n",
    "    f = open(fileName, 'r')  \n",
    "    \n",
    "    i = 0\n",
    "    count = 0\n",
    "    lst = []\n",
    "    mydict = {}\n",
    "    \n",
    "    for line in f:\n",
    "        if line.find('created_at') > 0:\n",
    "            count += 1\n",
    "            tweet = json.loads(line)\n",
    "            lst.append(tweet['text'])\n",
    "            \n",
    "            if count == FiveMunitesCount:\n",
    "                mydict[t_gap[i]] = lst\n",
    "                i += 1\n",
    "                lst = []\n",
    "                count = 0\n",
    "            elif i == (len(t_gap) -1):\n",
    "                mydict[t_gap[i]] = lst\n",
    "                \n",
    "    f.close()\n",
    "    return mydict"
   ]
  },
  {
   "cell_type": "code",
   "execution_count": 47,
   "metadata": {
    "collapsed": false
   },
   "outputs": [],
   "source": [
    "mydict = groupTweetsByCount('data/day5/output5.json',t_gap)"
   ]
  },
  {
   "cell_type": "code",
   "execution_count": 48,
   "metadata": {
    "collapsed": false
   },
   "outputs": [
    {
     "data": {
      "text/plain": [
       "40"
      ]
     },
     "execution_count": 48,
     "metadata": {},
     "output_type": "execute_result"
    }
   ],
   "source": [
    "# f = open('output3.json','r')\n",
    "# lst = []\n",
    "# for line in f:\n",
    "#     if line.find('created_at') > 0:\n",
    "#         tweet = json.loads(line)\n",
    "#         lst.append(tweet['text'])\n",
    "# f.close()\n",
    "# words = [ w for t in lst \n",
    "#               for w in t.split() ]\n",
    "# cleaned_words = [item.lower() for item in words if item not in sw]\n",
    "\n",
    "# mypd = pd.DataFrame(cleaned_words)\n",
    "# mypd.columns = ['word']\n",
    "\n",
    "# merged_positive = pd.merge(left=positives, right=mypd, how='right', on='word')\n",
    "# print(merged_positive.head())\n",
    "# merged_negative = pd.merge(left=negatives, right=mypd, how='right', on='word')\n",
    "# print(merged_negative.head())\n",
    "len(mydict)"
   ]
  },
  {
   "cell_type": "code",
   "execution_count": 49,
   "metadata": {
    "collapsed": false
   },
   "outputs": [],
   "source": [
    "# split to the words and remove the stopwords\n",
    "for key in mydict.keys():\n",
    "    words = [ w for t in mydict[key] \n",
    "              for w in t.split() ]\n",
    "    cleaned_words = [item.lower() for item in words if item not in sw]\n",
    "    mydict[key] = cleaned_words\n"
   ]
  },
  {
   "cell_type": "code",
   "execution_count": 50,
   "metadata": {
    "collapsed": false
   },
   "outputs": [],
   "source": [
    "positives = pd.read_csv('positives.csv')\n",
    "negatives = pd.read_csv('negatives.csv')"
   ]
  },
  {
   "cell_type": "code",
   "execution_count": 51,
   "metadata": {
    "collapsed": false
   },
   "outputs": [],
   "source": [
    "ratios = {}\n",
    "diffs = {}\n",
    "for key in mydict.keys():\n",
    "    mypd = pd.DataFrame(mydict[key])\n",
    "    mypd.columns = ['word']\n",
    "    merged_positive = pd.merge(left=positives, right=mypd, how='right', on='word')\n",
    "    merged_negative = pd.merge(left=negatives, right=mypd, how='right', on='word')\n",
    "    merged_positive['value'].fillna(0, inplace=True)\n",
    "    merged_negative['value'].fillna(0, inplace=True)\n",
    "    pn_ratio = sum(merged_positive['value'])/abs(sum(merged_negative['value']))\n",
    "    ratios[key] = pn_ratio\n",
    "    diffs[key] = sum(merged_positive['value']) - abs(sum(merged_negative['value']))"
   ]
  },
  {
   "cell_type": "code",
   "execution_count": 52,
   "metadata": {
    "collapsed": false
   },
   "outputs": [],
   "source": [
    "pd_ratios = pd.DataFrame(ratios.items(), columns=['time', 'value'])\n",
    "pd_diffs = pd.DataFrame(diffs.items(), columns=['time', 'value'])\n",
    "pd_nasdaq = pd.DataFrame(nasdaq.items(), columns=['time', 'index'])\n",
    "pd_sp500 = pd.DataFrame(sp500.items(), columns=['time', 'index'])\n",
    "\n",
    "merge1 = pd.merge(left=pd_ratios, right=pd_nasdaq, how='inner', on='time').sort_values('time')\n",
    "merge2 = pd.merge(left=pd_ratios, right=pd_sp500, how='inner', on='time').sort_values('time')\n",
    "merge3 = pd.merge(left=pd_diffs, right=pd_nasdaq, how='inner', on='time').sort_values('time')\n",
    "merge4 = pd.merge(left=pd_diffs, right=pd_sp500, how='inner', on='time').sort_values('time')\n"
   ]
  },
  {
   "cell_type": "code",
   "execution_count": 53,
   "metadata": {
    "collapsed": true
   },
   "outputs": [],
   "source": [
    "merge1.to_csv('data/day5/day5_merge1.csv')\n",
    "merge2.to_csv('data/day5/day5_merge2.csv')\n",
    "merge3.to_csv('data/day5/day5_merge3.csv')\n",
    "merge4.to_csv('data/day5/day5_merge4.csv')"
   ]
  },
  {
   "cell_type": "code",
   "execution_count": 54,
   "metadata": {
    "collapsed": false
   },
   "outputs": [],
   "source": [
    "import statsmodels.tsa.stattools"
   ]
  },
  {
   "cell_type": "code",
   "execution_count": 55,
   "metadata": {
    "collapsed": false
   },
   "outputs": [
    {
     "name": "stdout",
     "output_type": "stream",
     "text": [
      "\n",
      "Granger Causality\n",
      "('number of lags (no zero)', 1)\n",
      "ssr based F test:         F=9.9720  , p=0.0034  , df_denom=33, df_num=1\n",
      "ssr based chi2 test:   chi2=10.8786 , p=0.0010  , df=1\n",
      "likelihood ratio test: chi2=9.5055  , p=0.0020  , df=1\n",
      "parameter F test:         F=9.9720  , p=0.0034  , df_denom=33, df_num=1\n",
      "\n",
      "Granger Causality\n",
      "('number of lags (no zero)', 2)\n",
      "ssr based F test:         F=4.4466  , p=0.0204  , df_denom=30, df_num=2\n",
      "ssr based chi2 test:   chi2=10.3754 , p=0.0056  , df=2\n",
      "likelihood ratio test: chi2=9.0867  , p=0.0106  , df=2\n",
      "parameter F test:         F=4.4466  , p=0.0204  , df_denom=30, df_num=2\n",
      "\n",
      "Granger Causality\n",
      "('number of lags (no zero)', 3)\n",
      "ssr based F test:         F=4.5628  , p=0.0104  , df_denom=27, df_num=3\n",
      "ssr based chi2 test:   chi2=17.2373 , p=0.0006  , df=3\n",
      "likelihood ratio test: chi2=13.9436 , p=0.0030  , df=3\n",
      "parameter F test:         F=4.5628  , p=0.0104  , df_denom=27, df_num=3\n",
      "\n",
      "Granger Causality\n",
      "('number of lags (no zero)', 4)\n",
      "ssr based F test:         F=2.3325  , p=0.0847  , df_denom=24, df_num=4\n",
      "ssr based chi2 test:   chi2=12.8289 , p=0.0121  , df=4\n",
      "likelihood ratio test: chi2=10.8375 , p=0.0285  , df=4\n",
      "parameter F test:         F=2.3325  , p=0.0847  , df_denom=24, df_num=4\n",
      "\n",
      "Granger Causality\n",
      "('number of lags (no zero)', 5)\n",
      "ssr based F test:         F=1.1950  , p=0.3454  , df_denom=21, df_num=5\n",
      "ssr based chi2 test:   chi2=9.1046  , p=0.1050  , df=5\n",
      "likelihood ratio test: chi2=8.0123  , p=0.1556  , df=5\n",
      "parameter F test:         F=1.1950  , p=0.3454  , df_denom=21, df_num=5\n"
     ]
    }
   ],
   "source": [
    "test1 = statsmodels.tsa.stattools.grangercausalitytests(merge1[['value','index']], 5)\n"
   ]
  },
  {
   "cell_type": "code",
   "execution_count": 56,
   "metadata": {
    "collapsed": false
   },
   "outputs": [
    {
     "name": "stdout",
     "output_type": "stream",
     "text": [
      "\n",
      "Granger Causality\n",
      "('number of lags (no zero)', 1)\n",
      "ssr based F test:         F=10.0094 , p=0.0033  , df_denom=33, df_num=1\n",
      "ssr based chi2 test:   chi2=10.9194 , p=0.0010  , df=1\n",
      "likelihood ratio test: chi2=9.5368  , p=0.0020  , df=1\n",
      "parameter F test:         F=10.0094 , p=0.0033  , df_denom=33, df_num=1\n",
      "\n",
      "Granger Causality\n",
      "('number of lags (no zero)', 2)\n",
      "ssr based F test:         F=4.6663  , p=0.0172  , df_denom=30, df_num=2\n",
      "ssr based chi2 test:   chi2=10.8881 , p=0.0043  , df=2\n",
      "likelihood ratio test: chi2=9.4800  , p=0.0087  , df=2\n",
      "parameter F test:         F=4.6663  , p=0.0172  , df_denom=30, df_num=2\n",
      "\n",
      "Granger Causality\n",
      "('number of lags (no zero)', 3)\n",
      "ssr based F test:         F=4.9513  , p=0.0072  , df_denom=27, df_num=3\n",
      "ssr based chi2 test:   chi2=18.7048 , p=0.0003  , df=3\n",
      "likelihood ratio test: chi2=14.9038 , p=0.0019  , df=3\n",
      "parameter F test:         F=4.9513  , p=0.0072  , df_denom=27, df_num=3\n",
      "\n",
      "Granger Causality\n",
      "('number of lags (no zero)', 4)\n",
      "ssr based F test:         F=2.6964  , p=0.0549  , df_denom=24, df_num=4\n",
      "ssr based chi2 test:   chi2=14.8304 , p=0.0051  , df=4\n",
      "likelihood ratio test: chi2=12.2481 , p=0.0156  , df=4\n",
      "parameter F test:         F=2.6964  , p=0.0549  , df_denom=24, df_num=4\n",
      "\n",
      "Granger Causality\n",
      "('number of lags (no zero)', 5)\n",
      "ssr based F test:         F=1.4550  , p=0.2464  , df_denom=21, df_num=5\n",
      "ssr based chi2 test:   chi2=11.0856 , p=0.0497  , df=5\n",
      "likelihood ratio test: chi2=9.5185  , p=0.0901  , df=5\n",
      "parameter F test:         F=1.4550  , p=0.2464  , df_denom=21, df_num=5\n"
     ]
    }
   ],
   "source": [
    "test2 = statsmodels.tsa.stattools.grangercausalitytests(merge2[['value','index']], 5)"
   ]
  },
  {
   "cell_type": "code",
   "execution_count": 57,
   "metadata": {
    "collapsed": false,
    "scrolled": false
   },
   "outputs": [
    {
     "name": "stdout",
     "output_type": "stream",
     "text": [
      "\n",
      "Granger Causality\n",
      "('number of lags (no zero)', 1)\n",
      "ssr based F test:         F=5.7927  , p=0.0218  , df_denom=33, df_num=1\n",
      "ssr based chi2 test:   chi2=6.3193  , p=0.0119  , df=1\n",
      "likelihood ratio test: chi2=5.8221  , p=0.0158  , df=1\n",
      "parameter F test:         F=5.7927  , p=0.0218  , df_denom=33, df_num=1\n",
      "\n",
      "Granger Causality\n",
      "('number of lags (no zero)', 2)\n",
      "ssr based F test:         F=1.5765  , p=0.2233  , df_denom=30, df_num=2\n",
      "ssr based chi2 test:   chi2=3.6786  , p=0.1589  , df=2\n",
      "likelihood ratio test: chi2=3.4978  , p=0.1740  , df=2\n",
      "parameter F test:         F=1.5765  , p=0.2233  , df_denom=30, df_num=2\n",
      "\n",
      "Granger Causality\n",
      "('number of lags (no zero)', 3)\n",
      "ssr based F test:         F=2.1887  , p=0.1125  , df_denom=27, df_num=3\n",
      "ssr based chi2 test:   chi2=8.2685  , p=0.0408  , df=3\n",
      "likelihood ratio test: chi2=7.4011  , p=0.0602  , df=3\n",
      "parameter F test:         F=2.1887  , p=0.1125  , df_denom=27, df_num=3\n",
      "\n",
      "Granger Causality\n",
      "('number of lags (no zero)', 4)\n",
      "ssr based F test:         F=1.0441  , p=0.4053  , df_denom=24, df_num=4\n",
      "ssr based chi2 test:   chi2=5.7425  , p=0.2192  , df=4\n",
      "likelihood ratio test: chi2=5.2942  , p=0.2584  , df=4\n",
      "parameter F test:         F=1.0441  , p=0.4053  , df_denom=24, df_num=4\n",
      "\n",
      "Granger Causality\n",
      "('number of lags (no zero)', 5)\n",
      "ssr based F test:         F=0.6354  , p=0.6750  , df_denom=21, df_num=5\n",
      "ssr based chi2 test:   chi2=4.8415  , p=0.4355  , df=5\n",
      "likelihood ratio test: chi2=4.5084  , p=0.4788  , df=5\n",
      "parameter F test:         F=0.6354  , p=0.6750  , df_denom=21, df_num=5\n"
     ]
    }
   ],
   "source": [
    "test3 = statsmodels.tsa.stattools.grangercausalitytests(merge3[['value','index']], 5)"
   ]
  },
  {
   "cell_type": "code",
   "execution_count": 58,
   "metadata": {
    "collapsed": false
   },
   "outputs": [
    {
     "name": "stdout",
     "output_type": "stream",
     "text": [
      "\n",
      "Granger Causality\n",
      "('number of lags (no zero)', 1)\n",
      "ssr based F test:         F=4.7434  , p=0.0367  , df_denom=33, df_num=1\n",
      "ssr based chi2 test:   chi2=5.1746  , p=0.0229  , df=1\n",
      "likelihood ratio test: chi2=4.8349  , p=0.0279  , df=1\n",
      "parameter F test:         F=4.7434  , p=0.0367  , df_denom=33, df_num=1\n",
      "\n",
      "Granger Causality\n",
      "('number of lags (no zero)', 2)\n",
      "ssr based F test:         F=1.3253  , p=0.2808  , df_denom=30, df_num=2\n",
      "ssr based chi2 test:   chi2=3.0925  , p=0.2131  , df=2\n",
      "likelihood ratio test: chi2=2.9634  , p=0.2273  , df=2\n",
      "parameter F test:         F=1.3253  , p=0.2808  , df_denom=30, df_num=2\n",
      "\n",
      "Granger Causality\n",
      "('number of lags (no zero)', 3)\n",
      "ssr based F test:         F=2.0945  , p=0.1244  , df_denom=27, df_num=3\n",
      "ssr based chi2 test:   chi2=7.9125  , p=0.0479  , df=3\n",
      "likelihood ratio test: chi2=7.1136  , p=0.0684  , df=3\n",
      "parameter F test:         F=2.0945  , p=0.1244  , df_denom=27, df_num=3\n",
      "\n",
      "Granger Causality\n",
      "('number of lags (no zero)', 4)\n",
      "ssr based F test:         F=1.1065  , p=0.3764  , df_denom=24, df_num=4\n",
      "ssr based chi2 test:   chi2=6.0857  , p=0.1928  , df=4\n",
      "likelihood ratio test: chi2=5.5852  , p=0.2323  , df=4\n",
      "parameter F test:         F=1.1065  , p=0.3764  , df_denom=24, df_num=4\n",
      "\n",
      "Granger Causality\n",
      "('number of lags (no zero)', 5)\n",
      "ssr based F test:         F=0.9556  , p=0.4667  , df_denom=21, df_num=5\n",
      "ssr based chi2 test:   chi2=7.2807  , p=0.2006  , df=5\n",
      "likelihood ratio test: chi2=6.5599  , p=0.2555  , df=5\n",
      "parameter F test:         F=0.9556  , p=0.4667  , df_denom=21, df_num=5\n"
     ]
    }
   ],
   "source": [
    "test4 = statsmodels.tsa.stattools.grangercausalitytests(merge4[['value','index']], 5)"
   ]
  },
  {
   "cell_type": "code",
   "execution_count": 59,
   "metadata": {
    "collapsed": false,
    "scrolled": true
   },
   "outputs": [
    {
     "data": {
      "image/png": "[encoded data removed]",
      "text/plain": [
       "<matplotlib.figure.Figure at 0x11467db10>"
      ]
     },
     "metadata": {},
     "output_type": "display_data"
    }
   ],
   "source": [
    "plt.figure(1)\n",
    "\n",
    "plt.subplot(211)\n",
    "plt.plot(pd_ratios['value'])\n",
    "plt.title(\"Ratios vs. SP500 Index\")\n",
    "\n",
    "plt.subplot(212)\n",
    "plt.plot(pd_sp500['index'])\n",
    "\n",
    "\n",
    "plt.show()"
   ]
  },
  {
   "cell_type": "code",
   "execution_count": null,
   "metadata": {
    "collapsed": true
   },
   "outputs": [],
   "source": []
  }
 ],
 "metadata": {
  "kernelspec": {
   "display_name": "Python 2",
   "language": "python",
   "name": "python2"
  },
  "language_info": {
   "codemirror_mode": {
    "name": "ipython",
    "version": 2
   },
   "file_extension": ".py",
   "mimetype": "text/x-python",
   "name": "python",
   "nbconvert_exporter": "python",
   "pygments_lexer": "ipython2",
   "version": "2.7.10"
  }
 },
 "nbformat": 4,
 "nbformat_minor": 0
}
