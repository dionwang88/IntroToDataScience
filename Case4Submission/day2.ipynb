{
 "cells": [
  {
   "cell_type": "code",
   "execution_count": 1,
   "metadata": {
    "collapsed": false
   },
   "outputs": [],
   "source": [
    "import json\n",
    "from pprint import pprint\n",
    "import time\n",
    "import pandas as pd\n",
    "import matplotlib.pyplot as plt\n",
    "%matplotlib inline"
   ]
  },
  {
   "cell_type": "code",
   "execution_count": 2,
   "metadata": {
    "collapsed": true
   },
   "outputs": [],
   "source": [
    "def convertToTime(t):\n",
    "    index = t.find('+0000')\n",
    "    lst = t.split('+0000')\n",
    "    t = ''\n",
    "    for l in lst:\n",
    "        t = t + l\n",
    "    return t"
   ]
  },
  {
   "cell_type": "code",
   "execution_count": 3,
   "metadata": {
    "collapsed": true
   },
   "outputs": [],
   "source": [
    "def yield_times(hst,mst):\n",
    "    from datetime import date, time, datetime, timedelta\n",
    "    start = datetime.combine(date.today(), time(hst, mst))\n",
    "    yield start.strftime(\"%H:%M\")\n",
    "    while True:\n",
    "        start += timedelta(seconds=600)\n",
    "        yield start.strftime(\"%H:%M\")"
   ]
  },
  {
   "cell_type": "code",
   "execution_count": 4,
   "metadata": {
    "collapsed": false
   },
   "outputs": [],
   "source": [
    "def generateTimeGap():\n",
    "    gen = yield_times(9,30)\n",
    "    t_seq = []\n",
    "    for i in range(40):\n",
    "        t_seq.append(gen.next())\n",
    "\n",
    "    return t_seq\n",
    "\n",
    "t_gap = generateTimeGap()"
   ]
  },
  {
   "cell_type": "code",
   "execution_count": 5,
   "metadata": {
    "collapsed": true
   },
   "outputs": [],
   "source": [
    "def formatTime(hour,minute):\n",
    "    m = ''\n",
    "    if hour < 10: \n",
    "        m = m + \"0\" + str(hour) + \":\"\n",
    "    else: \n",
    "        m = m + str(hour) + \":\"\n",
    "    if minute < 10:\n",
    "        m = m + \"0\" + str(minute)\n",
    "    else:\n",
    "        m = m + str(minute)\n",
    "    return m"
   ]
  },
  {
   "cell_type": "code",
   "execution_count": 6,
   "metadata": {
    "collapsed": false
   },
   "outputs": [],
   "source": [
    "# def groupTweetsByTime(fileName, t_gap):\n",
    "#     f = open(fileName, 'r')\n",
    "    \n",
    "#     mydict = {}\n",
    "#     i = 0\n",
    "#     lst = []\n",
    "#     for line in f:\n",
    "#         if line.find('created_at') > 0:# filter the deleted tweets\n",
    "#             tweet = json.loads(line)\n",
    "#             t = time.strptime(convertToTime(tweet['created_at'])) # convert tweet time to HH:MM format \n",
    "#             t1 = formatTime(t.tm_hour, t.tm_min)# get time in format: HH:MM\n",
    "#             tweet['time'] = t1\n",
    "#             if t < t_gap[i]:\n",
    "#                 lst.append(tweet)\n",
    "#             else:\n",
    "#                 mydict[t_gap[i]] = lst\n",
    "#                 lst = [tweet]\n",
    "#                 if i == len(t_gap)-1:\n",
    "#                     break\n",
    "#                 else:\n",
    "#                     i += 1\n",
    "#     f.close()\n",
    "#     return mydict"
   ]
  },
  {
   "cell_type": "code",
   "execution_count": 8,
   "metadata": {
    "collapsed": false,
    "scrolled": true
   },
   "outputs": [],
   "source": [
    "# test group the tweets by time\n",
    "# def generateTimeSeq():\n",
    "#     lst = []\n",
    "#     for i in xrange(9,15):\n",
    "#         for j in xrange(0, 59):\n",
    "#             m = ''\n",
    "#             if i < 10: \n",
    "#                 m = m + \"0\" + str(i) + \":\"\n",
    "#             else: \n",
    "#                 m = m + str(i) + \":\"\n",
    "#             if j < 10:\n",
    "#                 m = m + \"0\" + str(j)\n",
    "#             else:\n",
    "#                 m = m + str(j)\n",
    "#             lst.append(m)\n",
    "#     return lst\n",
    "\n",
    "\n",
    "# my_seq = generateTimeSeq()\n",
    "\n",
    "# mydict = {}\n",
    "# i = 0\n",
    "# lst = []\n",
    "# for t in my_seq:\n",
    "#     if t < t_gap[i]:\n",
    "#         lst.append(t)\n",
    "#     else:\n",
    "#         mydict[t_gap[i]] = lst\n",
    "#         lst = [t]\n",
    "#         i += 1\n",
    "# import pandas as pd\n",
    "\n",
    "# p = pd.DataFrame(mydict.items())\n",
    "# p.sort_values(0)\n"
   ]
  },
  {
   "cell_type": "code",
   "execution_count": 9,
   "metadata": {
    "collapsed": false
   },
   "outputs": [],
   "source": [
    "# from yahoo_finance import Share\n",
    "# import time\n",
    "\n",
    "# for i in xrange(5):\n",
    "#     GSPC = Share(\"^GSPC\")\n",
    "#     IXIC = Share('^IXIC')\n",
    "#     start = time.time()\n",
    "#     price_dict = {}\n",
    "#     GSPC.refresh()\n",
    "#     IXIC.refresh()\n",
    "#     price_dict[\"time\"] = time.ctime()\n",
    "#     price_dict[\"SP500\"] = float(GSPC.get_price())\n",
    "#     price_dict[\"nasdaq\"] = float(IXIC.get_price())\n",
    "#     print price_dict\n",
    "#     end = time.time()\n",
    "# #     print end - start\n",
    "#     time.sleep(3)"
   ]
  },
  {
   "cell_type": "code",
   "execution_count": 6,
   "metadata": {
    "collapsed": false,
    "scrolled": true
   },
   "outputs": [
    {
     "name": "stdout",
     "output_type": "stream",
     "text": [
      "1138035\n"
     ]
    }
   ],
   "source": [
    "f = open('data/day2/output2.json', 'r')\n",
    "i = 0\n",
    "for line in f:\n",
    "    if line.find('created_at') > 0:\n",
    "        i += 1\n",
    "print i\n",
    "f.close()"
   ]
  },
  {
   "cell_type": "code",
   "execution_count": 93,
   "metadata": {
    "collapsed": false
   },
   "outputs": [
    {
     "data": {
      "text/plain": [
       "40"
      ]
     },
     "execution_count": 93,
     "metadata": {},
     "output_type": "execute_result"
    }
   ],
   "source": [
    "len(t_gap)"
   ]
  },
  {
   "cell_type": "code",
   "execution_count": 95,
   "metadata": {
    "collapsed": false
   },
   "outputs": [
    {
     "data": {
      "text/plain": [
       "28450"
      ]
     },
     "execution_count": 95,
     "metadata": {},
     "output_type": "execute_result"
    }
   ],
   "source": [
    "1138035/40"
   ]
  },
  {
   "cell_type": "code",
   "execution_count": 6,
   "metadata": {
    "collapsed": false,
    "scrolled": false
   },
   "outputs": [],
   "source": [
    "def parseFinance(fileName, t_gap):\n",
    "    f = open(fileName, 'r')\n",
    "\n",
    "    sp500 = {}\n",
    "    nasdaq = {}\n",
    "    start = t_gap[0]\n",
    "    end = t_gap[1]\n",
    "    cursor = 0\n",
    "\n",
    "    for line in f:\n",
    "        if line.find('nasdaq') > 0:\n",
    "            fjson = json.loads(line)\n",
    "            t = time.strptime(convertToTime(fjson['time']))\n",
    "            t = formatTime(t.tm_hour,t.tm_min)# get time in format: HH:MM\n",
    "            fjson['time'] = t\n",
    "            if t <= start:\n",
    "                sp500[end] = fjson['SP500']\n",
    "                nasdaq[end] = fjson['nasdaq']\n",
    "                continue\n",
    "            if t > start and t <= end:\n",
    "                sp500[end] = fjson['SP500']\n",
    "                nasdaq[end] = fjson['nasdaq']\n",
    "                continue\n",
    "            if t > end:\n",
    "                for j in xrange(cursor, len(t_gap)):\n",
    "                    if t > t_gap[j]:\n",
    "                        continue\n",
    "                    else:\n",
    "                        cursor = j\n",
    "                        start = t_gap[j-1]\n",
    "                        end = t_gap[j]\n",
    "                        sp500[end] = fjson['SP500']\n",
    "                        nasdaq[end] = fjson['nasdaq']\n",
    "                        break\n",
    "\n",
    "    f.close()\n",
    "\n",
    "    return sp500, nasdaq"
   ]
  },
  {
   "cell_type": "code",
   "execution_count": 7,
   "metadata": {
    "collapsed": false
   },
   "outputs": [],
   "source": [
    "sp500, nasdaq = parseFinance('data/day2/finance2.json', t_gap)"
   ]
  },
  {
   "cell_type": "code",
   "execution_count": 8,
   "metadata": {
    "collapsed": true
   },
   "outputs": [],
   "source": [
    "import nltk"
   ]
  },
  {
   "cell_type": "code",
   "execution_count": 9,
   "metadata": {
    "collapsed": false
   },
   "outputs": [],
   "source": [
    "from nltk.corpus import stopwords\n",
    "sw = stopwords.words(\"english\")"
   ]
  },
  {
   "cell_type": "code",
   "execution_count": 10,
   "metadata": {
    "collapsed": true
   },
   "outputs": [],
   "source": [
    "FiveMunitesCount = 28400"
   ]
  },
  {
   "cell_type": "code",
   "execution_count": 11,
   "metadata": {
    "collapsed": false
   },
   "outputs": [],
   "source": [
    "def groupTweetsByCount(fileName, t_gap): \n",
    "    f = open(fileName, 'r')  \n",
    "    \n",
    "    i = 0\n",
    "    count = 0\n",
    "    lst = []\n",
    "    mydict = {}\n",
    "    \n",
    "    for line in f:\n",
    "        if line.find('created_at') > 0:\n",
    "            count += 1\n",
    "            tweet = json.loads(line)\n",
    "            lst.append(tweet['text'])\n",
    "            \n",
    "            if count == FiveMunitesCount:\n",
    "                mydict[t_gap[i]] = lst\n",
    "                i += 1\n",
    "                lst = []\n",
    "                count = 0\n",
    "            elif i == (len(t_gap) -1):\n",
    "                mydict[t_gap[i]] = lst\n",
    "                \n",
    "    f.close()\n",
    "    return mydict"
   ]
  },
  {
   "cell_type": "code",
   "execution_count": 12,
   "metadata": {
    "collapsed": false
   },
   "outputs": [],
   "source": [
    "mydict = groupTweetsByCount('data/day2/output2.json',t_gap)"
   ]
  },
  {
   "cell_type": "code",
   "execution_count": 13,
   "metadata": {
    "collapsed": false
   },
   "outputs": [
    {
     "data": {
      "text/plain": [
       "40"
      ]
     },
     "execution_count": 13,
     "metadata": {},
     "output_type": "execute_result"
    }
   ],
   "source": [
    "# f = open('output3.json','r')\n",
    "# lst = []\n",
    "# for line in f:\n",
    "#     if line.find('created_at') > 0:\n",
    "#         tweet = json.loads(line)\n",
    "#         lst.append(tweet['text'])\n",
    "# f.close()\n",
    "# words = [ w for t in lst \n",
    "#               for w in t.split() ]\n",
    "# cleaned_words = [item.lower() for item in words if item not in sw]\n",
    "\n",
    "# mypd = pd.DataFrame(cleaned_words)\n",
    "# mypd.columns = ['word']\n",
    "\n",
    "# merged_positive = pd.merge(left=positives, right=mypd, how='right', on='word')\n",
    "# print(merged_positive.head())\n",
    "# merged_negative = pd.merge(left=negatives, right=mypd, how='right', on='word')\n",
    "# print(merged_negative.head())\n",
    "len(mydict)"
   ]
  },
  {
   "cell_type": "code",
   "execution_count": 14,
   "metadata": {
    "collapsed": true
   },
   "outputs": [],
   "source": [
    "# split to the words and remove the stopwords\n",
    "for key in mydict.keys():\n",
    "    words = [ w for t in mydict[key] \n",
    "              for w in t.split() ]\n",
    "    cleaned_words = [item.lower() for item in words if item not in sw]\n",
    "    mydict[key] = cleaned_words\n"
   ]
  },
  {
   "cell_type": "code",
   "execution_count": 15,
   "metadata": {
    "collapsed": false
   },
   "outputs": [],
   "source": [
    "positives = pd.read_csv('positives.csv')\n",
    "negatives = pd.read_csv('negatives.csv')"
   ]
  },
  {
   "cell_type": "code",
   "execution_count": 16,
   "metadata": {
    "collapsed": false
   },
   "outputs": [
    {
     "name": "stderr",
     "output_type": "stream",
     "text": [
      "/Users/wangqian/anaconda/lib/python2.7/site-packages/pandas/tools/merge.py:679: UnicodeWarning: Unicode equal comparison failed to convert both arguments to Unicode - interpreting them as being unequal\n",
      "  rlab = rizer.factorize(rk)\n"
     ]
    }
   ],
   "source": [
    "ratios = {}\n",
    "diffs = {}\n",
    "for key in mydict.keys():\n",
    "    mypd = pd.DataFrame(mydict[key])\n",
    "    mypd.columns = ['word']\n",
    "    merged_positive = pd.merge(left=positives, right=mypd, how='right', on='word')\n",
    "    merged_negative = pd.merge(left=negatives, right=mypd, how='right', on='word')\n",
    "    merged_positive['value'].fillna(0, inplace=True)\n",
    "    merged_negative['value'].fillna(0, inplace=True)\n",
    "    pn_ratio = sum(merged_positive['value'])/abs(sum(merged_negative['value']))\n",
    "    ratios[key] = pn_ratio\n",
    "    diffs[key] = sum(merged_positive['value']) - abs(sum(merged_negative['value']))"
   ]
  },
  {
   "cell_type": "code",
   "execution_count": 17,
   "metadata": {
    "collapsed": false
   },
   "outputs": [],
   "source": [
    "pd_ratios = pd.DataFrame(ratios.items(), columns=['time', 'value'])\n",
    "pd_diffs = pd.DataFrame(diffs.items(), columns=['time', 'value'])\n",
    "pd_nasdaq = pd.DataFrame(nasdaq.items(), columns=['time', 'index'])\n",
    "pd_sp500 = pd.DataFrame(sp500.items(), columns=['time', 'index'])\n",
    "\n",
    "merge1 = pd.merge(left=pd_ratios, right=pd_nasdaq, how='inner', on='time').sort_values('time')\n",
    "merge2 = pd.merge(left=pd_ratios, right=pd_sp500, how='inner', on='time').sort_values('time')\n",
    "merge3 = pd.merge(left=pd_diffs, right=pd_nasdaq, how='inner', on='time').sort_values('time')\n",
    "merge4 = pd.merge(left=pd_diffs, right=pd_sp500, how='inner', on='time').sort_values('time')\n"
   ]
  },
  {
   "cell_type": "code",
   "execution_count": 23,
   "metadata": {
    "collapsed": true
   },
   "outputs": [],
   "source": [
    "merge1.to_csv('data/day2/day2_merge1.csv')\n",
    "merge2.to_csv('data/day2/day2_merge2.csv')\n",
    "merge3.to_csv('data/day2/day2_merge3.csv')\n",
    "merge4.to_csv('data/day2/day2_merge4.csv')"
   ]
  },
  {
   "cell_type": "code",
   "execution_count": 18,
   "metadata": {
    "collapsed": false
   },
   "outputs": [],
   "source": [
    "import statsmodels.tsa.stattools"
   ]
  },
  {
   "cell_type": "code",
   "execution_count": 19,
   "metadata": {
    "collapsed": false
   },
   "outputs": [
    {
     "name": "stdout",
     "output_type": "stream",
     "text": [
      "\n",
      "Granger Causality\n",
      "('number of lags (no zero)', 1)\n",
      "ssr based F test:         F=0.1736  , p=0.6795  , df_denom=35, df_num=1\n",
      "ssr based chi2 test:   chi2=0.1884  , p=0.6642  , df=1\n",
      "likelihood ratio test: chi2=0.1880  , p=0.6646  , df=1\n",
      "parameter F test:         F=0.1736  , p=0.6795  , df_denom=35, df_num=1\n",
      "\n",
      "Granger Causality\n",
      "('number of lags (no zero)', 2)\n",
      "ssr based F test:         F=1.0919  , p=0.3477  , df_denom=32, df_num=2\n",
      "ssr based chi2 test:   chi2=2.5251  , p=0.2829  , df=2\n",
      "likelihood ratio test: chi2=2.4427  , p=0.2948  , df=2\n",
      "parameter F test:         F=1.0919  , p=0.3477  , df_denom=32, df_num=2\n",
      "\n",
      "Granger Causality\n",
      "('number of lags (no zero)', 3)\n",
      "ssr based F test:         F=1.1716  , p=0.3376  , df_denom=29, df_num=3\n",
      "ssr based chi2 test:   chi2=4.3631  , p=0.2248  , df=3\n",
      "likelihood ratio test: chi2=4.1183  , p=0.2490  , df=3\n",
      "parameter F test:         F=1.1716  , p=0.3376  , df_denom=29, df_num=3\n",
      "\n",
      "Granger Causality\n",
      "('number of lags (no zero)', 4)\n",
      "ssr based F test:         F=1.2445  , p=0.3168  , df_denom=26, df_num=4\n",
      "ssr based chi2 test:   chi2=6.7014  , p=0.1525  , df=4\n",
      "likelihood ratio test: chi2=6.1315  , p=0.1895  , df=4\n",
      "parameter F test:         F=1.2445  , p=0.3168  , df_denom=26, df_num=4\n",
      "\n",
      "Granger Causality\n",
      "('number of lags (no zero)', 5)\n",
      "ssr based F test:         F=0.6295  , p=0.6791  , df_denom=23, df_num=5\n",
      "ssr based chi2 test:   chi2=4.6530  , p=0.4597  , df=5\n",
      "likelihood ratio test: chi2=4.3610  , p=0.4987  , df=5\n",
      "parameter F test:         F=0.6295  , p=0.6791  , df_denom=23, df_num=5\n"
     ]
    }
   ],
   "source": [
    "test1 = statsmodels.tsa.stattools.grangercausalitytests(merge1[['value','index']], 5)\n"
   ]
  },
  {
   "cell_type": "code",
   "execution_count": 107,
   "metadata": {
    "collapsed": false
   },
   "outputs": [
    {
     "name": "stdout",
     "output_type": "stream",
     "text": [
      "\n",
      "Granger Causality\n",
      "('number of lags (no zero)', 1)\n",
      "ssr based F test:         F=0.5339  , p=0.4698  , df_denom=35, df_num=1\n",
      "ssr based chi2 test:   chi2=0.5797  , p=0.4464  , df=1\n",
      "likelihood ratio test: chi2=0.5753  , p=0.4482  , df=1\n",
      "parameter F test:         F=0.5339  , p=0.4698  , df_denom=35, df_num=1\n",
      "\n",
      "Granger Causality\n",
      "('number of lags (no zero)', 2)\n",
      "ssr based F test:         F=2.0100  , p=0.1506  , df_denom=32, df_num=2\n",
      "ssr based chi2 test:   chi2=4.6481  , p=0.0979  , df=2\n",
      "likelihood ratio test: chi2=4.3785  , p=0.1120  , df=2\n",
      "parameter F test:         F=2.0100  , p=0.1506  , df_denom=32, df_num=2\n",
      "\n",
      "Granger Causality\n",
      "('number of lags (no zero)', 3)\n",
      "ssr based F test:         F=1.8121  , p=0.1670  , df_denom=29, df_num=3\n",
      "ssr based chi2 test:   chi2=6.7485  , p=0.0804  , df=3\n",
      "likelihood ratio test: chi2=6.1853  , p=0.1029  , df=3\n",
      "parameter F test:         F=1.8121  , p=0.1670  , df_denom=29, df_num=3\n",
      "\n",
      "Granger Causality\n",
      "('number of lags (no zero)', 4)\n",
      "ssr based F test:         F=1.9802  , p=0.1272  , df_denom=26, df_num=4\n",
      "ssr based chi2 test:   chi2=10.6628 , p=0.0306  , df=4\n",
      "likelihood ratio test: chi2=9.3078  , p=0.0539  , df=4\n",
      "parameter F test:         F=1.9802  , p=0.1272  , df_denom=26, df_num=4\n",
      "\n",
      "Granger Causality\n",
      "('number of lags (no zero)', 5)\n",
      "ssr based F test:         F=1.5944  , p=0.2014  , df_denom=23, df_num=5\n",
      "ssr based chi2 test:   chi2=11.7844 , p=0.0379  , df=5\n",
      "likelihood ratio test: chi2=10.1178 , p=0.0720  , df=5\n",
      "parameter F test:         F=1.5944  , p=0.2014  , df_denom=23, df_num=5\n"
     ]
    }
   ],
   "source": [
    "test2 = statsmodels.tsa.stattools.grangercausalitytests(merge2[['value','index']], 5)"
   ]
  },
  {
   "cell_type": "code",
   "execution_count": 108,
   "metadata": {
    "collapsed": false,
    "scrolled": false
   },
   "outputs": [
    {
     "name": "stdout",
     "output_type": "stream",
     "text": [
      "\n",
      "Granger Causality\n",
      "('number of lags (no zero)', 1)\n",
      "ssr based F test:         F=0.3408  , p=0.5631  , df_denom=35, df_num=1\n",
      "ssr based chi2 test:   chi2=0.3700  , p=0.5430  , df=1\n",
      "likelihood ratio test: chi2=0.3682  , p=0.5440  , df=1\n",
      "parameter F test:         F=0.3408  , p=0.5631  , df_denom=35, df_num=1\n",
      "\n",
      "Granger Causality\n",
      "('number of lags (no zero)', 2)\n",
      "ssr based F test:         F=0.8720  , p=0.4278  , df_denom=32, df_num=2\n",
      "ssr based chi2 test:   chi2=2.0164  , p=0.3649  , df=2\n",
      "likelihood ratio test: chi2=1.9634  , p=0.3747  , df=2\n",
      "parameter F test:         F=0.8720  , p=0.4278  , df_denom=32, df_num=2\n",
      "\n",
      "Granger Causality\n",
      "('number of lags (no zero)', 3)\n",
      "ssr based F test:         F=0.5393  , p=0.6592  , df_denom=29, df_num=3\n",
      "ssr based chi2 test:   chi2=2.0084  , p=0.5707  , df=3\n",
      "likelihood ratio test: chi2=1.9543  , p=0.5819  , df=3\n",
      "parameter F test:         F=0.5393  , p=0.6592  , df_denom=29, df_num=3\n",
      "\n",
      "Granger Causality\n",
      "('number of lags (no zero)', 4)\n",
      "ssr based F test:         F=0.8074  , p=0.5318  , df_denom=26, df_num=4\n",
      "ssr based chi2 test:   chi2=4.3473  , p=0.3610  , df=4\n",
      "likelihood ratio test: chi2=4.0978  , p=0.3929  , df=4\n",
      "parameter F test:         F=0.8074  , p=0.5318  , df_denom=26, df_num=4\n",
      "\n",
      "Granger Causality\n",
      "('number of lags (no zero)', 5)\n",
      "ssr based F test:         F=0.5687  , p=0.7231  , df_denom=23, df_num=5\n",
      "ssr based chi2 test:   chi2=4.2033  , p=0.5205  , df=5\n",
      "likelihood ratio test: chi2=3.9631  , p=0.5547  , df=5\n",
      "parameter F test:         F=0.5687  , p=0.7231  , df_denom=23, df_num=5\n"
     ]
    }
   ],
   "source": [
    "test3 = statsmodels.tsa.stattools.grangercausalitytests(merge3[['value','index']], 5)"
   ]
  },
  {
   "cell_type": "code",
   "execution_count": 109,
   "metadata": {
    "collapsed": false
   },
   "outputs": [
    {
     "name": "stdout",
     "output_type": "stream",
     "text": [
      "\n",
      "Granger Causality\n",
      "('number of lags (no zero)', 1)\n",
      "ssr based F test:         F=0.4072  , p=0.5275  , df_denom=35, df_num=1\n",
      "ssr based chi2 test:   chi2=0.4421  , p=0.5061  , df=1\n",
      "likelihood ratio test: chi2=0.4396  , p=0.5073  , df=1\n",
      "parameter F test:         F=0.4072  , p=0.5275  , df_denom=35, df_num=1\n",
      "\n",
      "Granger Causality\n",
      "('number of lags (no zero)', 2)\n",
      "ssr based F test:         F=1.0062  , p=0.3769  , df_denom=32, df_num=2\n",
      "ssr based chi2 test:   chi2=2.3268  , p=0.3124  , df=2\n",
      "likelihood ratio test: chi2=2.2566  , p=0.3236  , df=2\n",
      "parameter F test:         F=1.0062  , p=0.3769  , df_denom=32, df_num=2\n",
      "\n",
      "Granger Causality\n",
      "('number of lags (no zero)', 3)\n",
      "ssr based F test:         F=1.0088  , p=0.4030  , df_denom=29, df_num=3\n",
      "ssr based chi2 test:   chi2=3.7569  , p=0.2889  , df=3\n",
      "likelihood ratio test: chi2=3.5735  , p=0.3113  , df=3\n",
      "parameter F test:         F=1.0088  , p=0.4030  , df_denom=29, df_num=3\n",
      "\n",
      "Granger Causality\n",
      "('number of lags (no zero)', 4)\n",
      "ssr based F test:         F=1.2869  , p=0.3007  , df_denom=26, df_num=4\n",
      "ssr based chi2 test:   chi2=6.9297  , p=0.1396  , df=4\n",
      "likelihood ratio test: chi2=6.3226  , p=0.1763  , df=4\n",
      "parameter F test:         F=1.2869  , p=0.3007  , df_denom=26, df_num=4\n",
      "\n",
      "Granger Causality\n",
      "('number of lags (no zero)', 5)\n",
      "ssr based F test:         F=0.9550  , p=0.4652  , df_denom=23, df_num=5\n",
      "ssr based chi2 test:   chi2=7.0588  , p=0.2163  , df=5\n",
      "likelihood ratio test: chi2=6.4139  , p=0.2680  , df=5\n",
      "parameter F test:         F=0.9550  , p=0.4652  , df_denom=23, df_num=5\n"
     ]
    }
   ],
   "source": [
    "test4 = statsmodels.tsa.stattools.grangercausalitytests(merge4[['value','index']], 5)"
   ]
  },
  {
   "cell_type": "code",
   "execution_count": 112,
   "metadata": {
    "collapsed": false
   },
   "outputs": [
    {
     "data": {
      "image/png": "[encoded data removed]",
      "text/plain": [
       "<matplotlib.figure.Figure at 0x14fd3bc50>"
      ]
     },
     "metadata": {},
     "output_type": "display_data"
    }
   ],
   "source": [
    "plt.figure(1)\n",
    "\n",
    "plt.subplot(211)\n",
    "plt.plot(pd_ratios['value'])\n",
    "plt.title(\"Ratios vs. SP500 Index\")\n",
    "\n",
    "plt.subplot(212)\n",
    "plt.plot(pd_sp500['index'])\n",
    "\n",
    "\n",
    "plt.show()"
   ]
  },
  {
   "cell_type": "code",
   "execution_count": null,
   "metadata": {
    "collapsed": true
   },
   "outputs": [],
   "source": []
  }
 ],
 "metadata": {
  "kernelspec": {
   "display_name": "Python 2",
   "language": "python",
   "name": "python2"
  },
  "language_info": {
   "codemirror_mode": {
    "name": "ipython",
    "version": 2
   },
   "file_extension": ".py",
   "mimetype": "text/x-python",
   "name": "python",
   "nbconvert_exporter": "python",
   "pygments_lexer": "ipython2",
   "version": "2.7.10"
  }
 },
 "nbformat": 4,
 "nbformat_minor": 0
}
